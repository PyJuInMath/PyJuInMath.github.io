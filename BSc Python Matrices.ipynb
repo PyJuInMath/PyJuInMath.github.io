{
 "cells": [
  {
   "cell_type": "markdown",
   "metadata": {},
   "source": [
    "# MATRICES\n",
    "\n",
    "   ### Computations with matrices."
   ]
  },
  {
   "cell_type": "markdown",
   "metadata": {},
   "source": [
    "## To create a Matrix"
   ]
  },
  {
   "cell_type": "markdown",
   "metadata": {},
   "source": [
    "The simple way to create a matrix is to create a **list of list**. It is called as **Nested List**."
   ]
  },
  {
   "cell_type": "code",
   "execution_count": 1,
   "metadata": {},
   "outputs": [
    {
     "name": "stdout",
     "output_type": "stream",
     "text": [
      "[[1, 2, 3], [4, 5, 6]]\n"
     ]
    }
   ],
   "source": [
    "M1 = [[1, 2, 3],\n",
    "      [4, 5, 6]\n",
    "     ]\n",
    "print(M1)"
   ]
  },
  {
   "cell_type": "markdown",
   "metadata": {},
   "source": [
    "We can type all kinds of data types in a matrix. Characters within `\" \"`, floating points and integers."
   ]
  },
  {
   "cell_type": "code",
   "execution_count": 2,
   "metadata": {},
   "outputs": [
    {
     "name": "stdout",
     "output_type": "stream",
     "text": [
      "[[4, 5, 6], ['a', 1.56625, 75], [9, 5.699, 8]]\n"
     ]
    },
    {
     "data": {
      "text/plain": [
       "list"
      ]
     },
     "execution_count": 2,
     "metadata": {},
     "output_type": "execute_result"
    }
   ],
   "source": [
    "M2 = [[4, 5, 6],\n",
    "      [\"a\", 1.56625, 75],\n",
    "      [9, 5.699, 8]\n",
    "     ]\n",
    "print(M2)\n",
    "type(M2)"
   ]
  },
  {
   "cell_type": "markdown",
   "metadata": {},
   "source": [
    "The above methods do create matrices. But for mathematical purposes and ease, we use a package called \"NumPy\" which can do all the matrix operaions."
   ]
  },
  {
   "cell_type": "markdown",
   "metadata": {},
   "source": [
    "## Numpy"
   ]
  },
  {
   "cell_type": "markdown",
   "metadata": {},
   "source": [
    "NumPy’s main object is the homogeneous multidimensional array, along with a large collection of high-level mathematical functions to operate on these arrays. It is a table of elements (usually numbers), all of the same type, indexed by a tuple of non-negative integers."
   ]
  },
  {
   "cell_type": "code",
   "execution_count": 3,
   "metadata": {},
   "outputs": [],
   "source": [
    "import numpy as np  "
   ]
  },
  {
   "cell_type": "markdown",
   "metadata": {},
   "source": [
    "We import **NumPy** using the above code and add prefix `np.` before the operation command. \n",
    "\n",
    "Note:We add `np.` since we have imported it as **`np`**.\n",
    "\n",
    "If you use the command `import numpy as python`, use **`python`** as a suffix."
   ]
  },
  {
   "cell_type": "markdown",
   "metadata": {},
   "source": [
    "### To create a matrix using NumPy"
   ]
  },
  {
   "cell_type": "code",
   "execution_count": 4,
   "metadata": {},
   "outputs": [
    {
     "data": {
      "text/plain": [
       "array([[1, 2, 3],\n",
       "       [4, 5, 6],\n",
       "       [7, 8, 9]])"
      ]
     },
     "execution_count": 4,
     "metadata": {},
     "output_type": "execute_result"
    }
   ],
   "source": [
    "A = np.array([[1, 2, 3],\n",
    "              [4, 5, 6],\n",
    "              [7, 8, 9]])#, dtype = complex)\n",
    "A           # Displays the matrix"
   ]
  },
  {
   "cell_type": "code",
   "execution_count": 5,
   "metadata": {},
   "outputs": [
    {
     "name": "stdout",
     "output_type": "stream",
     "text": [
      "[[1 2 3]\n",
      " [4 5 6]\n",
      " [7 8 9]]\n",
      "<class 'numpy.ndarray'>\n",
      "int32\n"
     ]
    }
   ],
   "source": [
    "print(A)       # We can use this command as well.\n",
    "print(type(A)) # Gives the type of matrix A\n",
    "print(A.dtype) # Gives the datatype of elments of A."
   ]
  },
  {
   "cell_type": "markdown",
   "metadata": {},
   "source": [
    "* Change one element in the matrix. For example, use $5.0$ instead of $5$ and note the difference is the resulting outputs."
   ]
  },
  {
   "cell_type": "markdown",
   "metadata": {},
   "source": [
    "NumPy’s array class is called `ndarray`. It is also known by the alias `array`."
   ]
  },
  {
   "cell_type": "markdown",
   "metadata": {},
   "source": [
    "## Sympy"
   ]
  },
  {
   "cell_type": "markdown",
   "metadata": {},
   "source": [
    "**SymPy** is a Python library for symbolic mathematics. It aims to become a full-featured computer algebra system (CAS) while keeping the code as simple as possible in order to be comprehensible and easily extensible. SymPy is written entirely in Python. SymPy only depends on `mpmath`, a pure Python library for arbitrary floating point arithmetic, making it easy to use."
   ]
  },
  {
   "cell_type": "code",
   "execution_count": 6,
   "metadata": {},
   "outputs": [],
   "source": [
    "import sympy as sp"
   ]
  },
  {
   "cell_type": "markdown",
   "metadata": {},
   "source": [
    "We import SymPy using the above code and add prefix `sp.` before the operation command."
   ]
  },
  {
   "cell_type": "code",
   "execution_count": 7,
   "metadata": {},
   "outputs": [
    {
     "data": {
      "text/latex": [
       "$\\displaystyle \\left[\\begin{matrix}1 & 2 & 3\\\\6 & 7 & 8\\\\4 & 0 & 5\\end{matrix}\\right]$"
      ],
      "text/plain": [
       "Matrix([\n",
       "[1, 2, 3],\n",
       "[6, 7, 8],\n",
       "[4, 0, 5]])"
      ]
     },
     "execution_count": 7,
     "metadata": {},
     "output_type": "execute_result"
    }
   ],
   "source": [
    "A = sp.Matrix([[1, 2, 3], [6, 7, 8], [4, 0, 5]])\n",
    "A"
   ]
  },
  {
   "cell_type": "markdown",
   "metadata": {},
   "source": [
    "Suppose we use the code `from sympy import *` to import the module/package, we need not use any prefix, like `sp.`."
   ]
  },
  {
   "cell_type": "markdown",
   "metadata": {},
   "source": [
    "We can also use `mpmath` or `math` modules to do the mathematical operations. \n",
    "\n",
    "There are many libraries as like mentioned above for mathematical computation. The commands might vary sometimes. Go through the documentation for of the specific packages/modules to know more.\n",
    "\n",
    "`Numpy` : https://numpy.org\n",
    "\n",
    "`Sympy` : https://www.sympy.org/en/index.html\n",
    "\n",
    "`math`  : https://docs.python.org/3/library/math.html\n",
    "\n",
    "`mpmath`: http://mpmath.org/"
   ]
  },
  {
   "cell_type": "markdown",
   "metadata": {},
   "source": [
    "We shall use only **NumPy** for all the computation. "
   ]
  },
  {
   "cell_type": "markdown",
   "metadata": {},
   "source": [
    "### To create different types of matrices using Numpy"
   ]
  },
  {
   "cell_type": "markdown",
   "metadata": {},
   "source": [
    "##### Identity matrix of order $n$"
   ]
  },
  {
   "cell_type": "code",
   "execution_count": 8,
   "metadata": {},
   "outputs": [
    {
     "name": "stdout",
     "output_type": "stream",
     "text": [
      "Identity matrix of order 2 : \n",
      " [[1. 0.]\n",
      " [0. 1.]]\n"
     ]
    }
   ],
   "source": [
    "import numpy as np\n",
    "I2 = np.identity(2)\n",
    "print(\"Identity matrix of order 2 : \\n\", I2)"
   ]
  },
  {
   "cell_type": "code",
   "execution_count": 9,
   "metadata": {},
   "outputs": [
    {
     "name": "stdout",
     "output_type": "stream",
     "text": [
      "Identity matrix of order 3 : \n",
      " [[1 0 0]\n",
      " [0 1 0]\n",
      " [0 0 1]]\n"
     ]
    },
    {
     "data": {
      "text/plain": [
       "dtype('int32')"
      ]
     },
     "execution_count": 9,
     "metadata": {},
     "output_type": "execute_result"
    }
   ],
   "source": [
    "I3 = np.identity(3, dtype = int)\n",
    "print(\"Identity matrix of order 3 : \\n\", I3) \n",
    "I3.dtype"
   ]
  },
  {
   "cell_type": "markdown",
   "metadata": {},
   "source": [
    "The *datatype* expected is mentioned to be `int` (Integer) in the second example. Observe the difference. `dtype` will be a `float` by default."
   ]
  },
  {
   "cell_type": "markdown",
   "metadata": {},
   "source": [
    "##### Zero matrix"
   ]
  },
  {
   "cell_type": "code",
   "execution_count": 10,
   "metadata": {},
   "outputs": [
    {
     "name": "stdout",
     "output_type": "stream",
     "text": [
      "Matrix Z1 : \n",
      " [0. 0. 0. 0. 0.]\n",
      "\n",
      "Matrix Z2 : \n",
      " [[0. 0.]\n",
      " [0. 0.]]\n",
      "\n",
      "Matrix Z3 : \n",
      " [[0. 0. 0.]\n",
      " [0. 0. 0.]\n",
      " [0. 0. 0.]]\n",
      "\n",
      "Matrix Z4 : \n",
      " [[0. 0. 0. 0. 0.]\n",
      " [0. 0. 0. 0. 0.]\n",
      " [0. 0. 0. 0. 0.]]\n"
     ]
    }
   ],
   "source": [
    "z1 = np.zeros(5)           # Gives a row matrix of 5 elements (Zeros)\n",
    "print(\"Matrix Z1 : \\n\", z1) \n",
    "  \n",
    "z2 = np.zeros((2, 2))      #Gives a 2x2 matix with zeros\n",
    "print(\"\\nMatrix Z2 : \\n\", z2) \n",
    "  \n",
    "z3 = np.zeros([3, 3]) \n",
    "print(\"\\nMatrix Z3 : \\n\", z3) \n",
    "\n",
    "z4 = np.zeros([3, 5]) \n",
    "print(\"\\nMatrix Z4 : \\n\", z4) "
   ]
  },
  {
   "cell_type": "markdown",
   "metadata": {},
   "source": [
    "##### We can also create zero martrix using a 'for loop'"
   ]
  },
  {
   "cell_type": "code",
   "execution_count": 11,
   "metadata": {},
   "outputs": [
    {
     "name": "stdout",
     "output_type": "stream",
     "text": [
      "No. of Rows: 5\n",
      "No. of Columns: 2\n",
      "[[0, 0], [0, 0], [0, 0], [0, 0], [0, 0]]\n"
     ]
    },
    {
     "data": {
      "text/plain": [
       "list"
      ]
     },
     "execution_count": 11,
     "metadata": {},
     "output_type": "execute_result"
    }
   ],
   "source": [
    "n = int(input(\"No. of Rows: \"))\n",
    "m = int(input(\"No. of Columns: \"))\n",
    "Z1 = [ [ 0 for i in range(m) ] for j in range(n) ]\n",
    "print(Z1)\n",
    "type(Z1)"
   ]
  },
  {
   "cell_type": "markdown",
   "metadata": {},
   "source": [
    "Note : We are not using `numpy` here. Hence the type of matrix results in **list**."
   ]
  },
  {
   "cell_type": "markdown",
   "metadata": {},
   "source": [
    "##### Unit matrix"
   ]
  },
  {
   "cell_type": "code",
   "execution_count": 12,
   "metadata": {},
   "outputs": [
    {
     "name": "stdout",
     "output_type": "stream",
     "text": [
      "\n",
      "Matrix c : \n",
      " [[1. 1. 1. 1. 1.]\n",
      " [1. 1. 1. 1. 1.]\n",
      " [1. 1. 1. 1. 1.]]\n"
     ]
    }
   ],
   "source": [
    "d = np.ones([3, 5])       # Create a unit matrix of order 3x5. datatype by default is \"float\"\n",
    "print(\"\\nMatrix c : \\n\", d)"
   ]
  },
  {
   "cell_type": "markdown",
   "metadata": {},
   "source": [
    "Create a unit matrix of order 3x5 and datatype as `int`"
   ]
  },
  {
   "cell_type": "code",
   "execution_count": 13,
   "metadata": {},
   "outputs": [
    {
     "name": "stdout",
     "output_type": "stream",
     "text": [
      "\n",
      "Matrix c : \n",
      " [[1 1 1 1 1]\n",
      " [1 1 1 1 1]\n",
      " [1 1 1 1 1]]\n"
     ]
    }
   ],
   "source": [
    "d = np.ones([3, 5], dtype = 'int') \n",
    "print(\"\\nMatrix c : \\n\", d)"
   ]
  },
  {
   "cell_type": "markdown",
   "metadata": {},
   "source": [
    "##### Create a Random matrix"
   ]
  },
  {
   "cell_type": "markdown",
   "metadata": {},
   "source": [
    "To create a random matrix, use the command `np.random.rand(m, n)` which creates a (m x n) matrix."
   ]
  },
  {
   "cell_type": "code",
   "execution_count": 14,
   "metadata": {},
   "outputs": [
    {
     "name": "stdout",
     "output_type": "stream",
     "text": [
      "Matrix R : \n",
      " [[0.74084473 0.28147657 0.48713722 0.50727886 0.61491337]\n",
      " [0.87325053 0.89240994 0.01774895 0.91174949 0.55174136]\n",
      " [0.62652921 0.01066252 0.32385252 0.95863495 0.91267847]]\n"
     ]
    }
   ],
   "source": [
    "r = np.random.rand(3, 5) \n",
    "print(\"Matrix R : \\n\", r)"
   ]
  },
  {
   "cell_type": "code",
   "execution_count": 15,
   "metadata": {},
   "outputs": [
    {
     "name": "stdout",
     "output_type": "stream",
     "text": [
      "\n",
      "Matrix R1 : \n",
      " [[44 44 30 70 63 48 67 68]\n",
      " [ 7 86 96 97 26 89 81 64]\n",
      " [63 42 93 73 70  0 11 77]\n",
      " [33 37  2 58  0 13 39 71]]\n"
     ]
    }
   ],
   "source": [
    "r1 = np.random.randint(100, size = (4, 8)) \n",
    "print(\"\\nMatrix R1 : \\n\", r1)"
   ]
  },
  {
   "cell_type": "markdown",
   "metadata": {},
   "source": [
    "* `r` has command `rand(m, n)`, creates a mxn matrix where each elemnt is between $0$ and $1$.\n",
    "* `r1` has command `randint(a, size = (m, n))`, creates a mxn matrix where each element is lessthan a. ie., $\\forall r_{ij}$ in $R1, r_{ij}$ $\\in$ $\\mathbb({Z}^{+})$  and $< a $\n",
    "* Execute the command once and note the vlaues. Execute again and observe."
   ]
  },
  {
   "cell_type": "code",
   "execution_count": 16,
   "metadata": {},
   "outputs": [
    {
     "name": "stdout",
     "output_type": "stream",
     "text": [
      "A = [0 1 2 3]\n",
      "B = [[ 0  1  2  3]\n",
      " [ 4  5  6  7]\n",
      " [ 8  9 10 11]]\n"
     ]
    }
   ],
   "source": [
    "A = (np.arange(4))\n",
    "print('A =', A)\n",
    "\n",
    "B = np.arange(12).reshape(3, 4)\n",
    "print('B =', B)"
   ]
  },
  {
   "cell_type": "markdown",
   "metadata": {},
   "source": [
    "`A` gives a row matrix from 0 to 3. \n",
    "\n",
    "**Note:** Indexing in python starts from $0$ and for a range of length $n$, the value stops at $n-1$. We can observe that last element of `A` is $3$ for a given length of $4$. Similarly in Matrix `B`."
   ]
  },
  {
   "cell_type": "markdown",
   "metadata": {},
   "source": [
    "The Linear Algebra submodule of NumPy that offers various methods to apply linear algebra on any numpy array. Use use the command `np.linalg.<operation>`, where `np.linalg` is the submodule used."
   ]
  },
  {
   "cell_type": "markdown",
   "metadata": {},
   "source": [
    "##### To find the Determinant of $A$. ($\\det{A}$)\n",
    "\n",
    "First define the matrix using `np.array([])`. Use `np.linalg.det()` to find the matrix."
   ]
  },
  {
   "cell_type": "code",
   "execution_count": 17,
   "metadata": {},
   "outputs": [
    {
     "data": {
      "text/plain": [
       "-60.000000000000036"
      ]
     },
     "execution_count": 17,
     "metadata": {},
     "output_type": "execute_result"
    }
   ],
   "source": [
    "A = np.array([[1, 2, 1],\n",
    "             [4, -1, 1],\n",
    "             [1, 6, 9]])\n",
    "DetA = np.linalg.det(A)\n",
    "DetA"
   ]
  },
  {
   "cell_type": "code",
   "execution_count": 18,
   "metadata": {},
   "outputs": [
    {
     "name": "stdout",
     "output_type": "stream",
     "text": [
      "-60.0\n"
     ]
    }
   ],
   "source": [
    "# The determinant value is a float. To round it to the nearest integer,\n",
    "print(np.round(DetA))"
   ]
  },
  {
   "cell_type": "markdown",
   "metadata": {},
   "source": [
    "##### Inverse of a matrix.\n",
    "\n",
    "Command : `np.linalg.inv()`"
   ]
  },
  {
   "cell_type": "code",
   "execution_count": 19,
   "metadata": {},
   "outputs": [
    {
     "name": "stdout",
     "output_type": "stream",
     "text": [
      "[[ 0.25        0.2        -0.05      ]\n",
      " [ 0.58333333 -0.13333333 -0.05      ]\n",
      " [-0.41666667  0.06666667  0.15      ]]\n"
     ]
    }
   ],
   "source": [
    "InvA = np.linalg.inv(A)\n",
    "print(InvA)"
   ]
  },
  {
   "cell_type": "markdown",
   "metadata": {},
   "source": [
    "The NumPy module gives a float as an output while finding the inverse. If we want fractions as the result we use `sympy` to find the *inverse*. We can use the following code to find the inverse using `SymPy`."
   ]
  },
  {
   "cell_type": "code",
   "execution_count": 20,
   "metadata": {},
   "outputs": [
    {
     "data": {
      "text/latex": [
       "$\\displaystyle \\left[\\begin{matrix}\\frac{1}{4} & \\frac{1}{5} & - \\frac{1}{20}\\\\\\frac{7}{12} & - \\frac{2}{15} & - \\frac{1}{20}\\\\- \\frac{5}{12} & \\frac{1}{15} & \\frac{3}{20}\\end{matrix}\\right]$"
      ],
      "text/plain": [
       "Matrix([\n",
       "[  1/4,   1/5, -1/20],\n",
       "[ 7/12, -2/15, -1/20],\n",
       "[-5/12,  1/15,  3/20]])"
      ]
     },
     "execution_count": 20,
     "metadata": {},
     "output_type": "execute_result"
    }
   ],
   "source": [
    "import sympy as sp\n",
    "A1 = sp.Matrix([[1, 2, 1],\n",
    "     [4, -1, 1],\n",
    "     [1, 6, 9]])\n",
    "b1 = A1.inv()\n",
    "b1"
   ]
  },
  {
   "cell_type": "markdown",
   "metadata": {},
   "source": [
    "Observe that `numpy` and `sympy` commands are different for the same function, ie., `inv`. In `numpy` we specify the matrix in the command, while in `sympy`, its just an extension after the given matrix."
   ]
  },
  {
   "cell_type": "markdown",
   "metadata": {},
   "source": [
    "##### Transpose of a matrix using NumPy"
   ]
  },
  {
   "cell_type": "code",
   "execution_count": 21,
   "metadata": {},
   "outputs": [
    {
     "data": {
      "text/plain": [
       "array([[ 1,  4,  1],\n",
       "       [ 2, -1,  6],\n",
       "       [ 1,  1,  9]])"
      ]
     },
     "execution_count": 21,
     "metadata": {},
     "output_type": "execute_result"
    }
   ],
   "source": [
    "import numpy as np\n",
    "AT = np.transpose(A)\n",
    "AT"
   ]
  },
  {
   "cell_type": "markdown",
   "metadata": {},
   "source": [
    "`np.size` gives the total number of elements in the Matrix "
   ]
  },
  {
   "cell_type": "code",
   "execution_count": 22,
   "metadata": {},
   "outputs": [
    {
     "name": "stdout",
     "output_type": "stream",
     "text": [
      "9\n"
     ]
    }
   ],
   "source": [
    "size = np.size(A)\n",
    "print(size)"
   ]
  },
  {
   "cell_type": "markdown",
   "metadata": {},
   "source": [
    "`np.shape` gives the dimension of the Matrix. ie., (`no. of rows`, `no. of columns`)"
   ]
  },
  {
   "cell_type": "code",
   "execution_count": 23,
   "metadata": {},
   "outputs": [
    {
     "data": {
      "text/plain": [
       "(3, 3)"
      ]
     },
     "execution_count": 23,
     "metadata": {},
     "output_type": "execute_result"
    }
   ],
   "source": [
    "order = np.shape(A)\n",
    "order"
   ]
  },
  {
   "cell_type": "markdown",
   "metadata": {},
   "source": [
    "To find the rank of a matrix, use the command `np.linalg.matrix_rank(A)`. This command just gives the rank of the matrix but not any reduced form of the matrix."
   ]
  },
  {
   "cell_type": "code",
   "execution_count": 24,
   "metadata": {},
   "outputs": [
    {
     "data": {
      "text/plain": [
       "3"
      ]
     },
     "execution_count": 24,
     "metadata": {},
     "output_type": "execute_result"
    }
   ],
   "source": [
    "rank = np.linalg.matrix_rank(A)\n",
    "rank"
   ]
  },
  {
   "cell_type": "markdown",
   "metadata": {},
   "source": [
    "To find eigenvalues and eigenvectors of a matrix, use `np.linalg.eigvals( )` to find the eigen values and `np.linalg.eig( )` to find the corresponding eigen vectors."
   ]
  },
  {
   "cell_type": "code",
   "execution_count": 25,
   "metadata": {},
   "outputs": [
    {
     "data": {
      "text/plain": [
       "array([-3.,  2., 10.])"
      ]
     },
     "execution_count": 25,
     "metadata": {},
     "output_type": "execute_result"
    }
   ],
   "source": [
    "eig = np.linalg.eigvals(A)\n",
    "eig"
   ]
  },
  {
   "cell_type": "code",
   "execution_count": 26,
   "metadata": {},
   "outputs": [
    {
     "data": {
      "text/plain": [
       "(array([-3.,  2., 10.]),\n",
       " array([[ 0.32770634, -0.57735027,  0.14002801],\n",
       "        [-0.85567768, -0.57735027,  0.14002801],\n",
       "        [ 0.40052998,  0.57735027,  0.98019606]]))"
      ]
     },
     "execution_count": 26,
     "metadata": {},
     "output_type": "execute_result"
    }
   ],
   "source": [
    "eig1 = np.linalg.eig(A)\n",
    "eig1"
   ]
  },
  {
   "cell_type": "code",
   "execution_count": 27,
   "metadata": {},
   "outputs": [
    {
     "data": {
      "text/plain": [
       "array([[ 0.32770634, -0.85567768,  0.40052998],\n",
       "       [-0.57735027, -0.57735027,  0.57735027],\n",
       "       [ 0.14002801,  0.14002801,  0.98019606]])"
      ]
     },
     "execution_count": 27,
     "metadata": {},
     "output_type": "execute_result"
    }
   ],
   "source": [
    "V = np.transpose(np.array([[ 0.32770634, -0.57735027,  0.14002801],\n",
    "        [-0.85567768, -0.57735027,  0.14002801],\n",
    "        [ 0.40052998,  0.57735027,  0.98019606]]))\n",
    "V1 = V[0, :]\n",
    "V2 = V[1, :]\n",
    "V3 = V[2, :]\n",
    "V"
   ]
  },
  {
   "cell_type": "code",
   "execution_count": 28,
   "metadata": {},
   "outputs": [
    {
     "data": {
      "text/plain": [
       "array([ 0.32770634, -0.85567768,  0.40052998])"
      ]
     },
     "execution_count": 28,
     "metadata": {},
     "output_type": "execute_result"
    }
   ],
   "source": [
    "V1"
   ]
  },
  {
   "cell_type": "code",
   "execution_count": 29,
   "metadata": {},
   "outputs": [
    {
     "data": {
      "text/plain": [
       "array([-0.98311902,  2.56703304, -1.20158994])"
      ]
     },
     "execution_count": 29,
     "metadata": {},
     "output_type": "execute_result"
    }
   ],
   "source": [
    "-3*V1"
   ]
  },
  {
   "cell_type": "code",
   "execution_count": 30,
   "metadata": {},
   "outputs": [
    {
     "data": {
      "text/plain": [
       "array([-0.98311904,  2.56703302, -1.20158992])"
      ]
     },
     "execution_count": 30,
     "metadata": {},
     "output_type": "execute_result"
    }
   ],
   "source": [
    "A.dot(np.transpose(V1))"
   ]
  },
  {
   "cell_type": "code",
   "execution_count": 31,
   "metadata": {},
   "outputs": [
    {
     "data": {
      "text/plain": [
       "array([[ 1,  0,  0],\n",
       "       [ 4, -1,  0],\n",
       "       [ 1,  6,  9]])"
      ]
     },
     "execution_count": 31,
     "metadata": {},
     "output_type": "execute_result"
    }
   ],
   "source": [
    "np.tril(A)"
   ]
  },
  {
   "cell_type": "code",
   "execution_count": 32,
   "metadata": {},
   "outputs": [
    {
     "data": {
      "text/plain": [
       "array([[ 1,  2,  1],\n",
       "       [ 0, -1,  1],\n",
       "       [ 0,  0,  9]])"
      ]
     },
     "execution_count": 32,
     "metadata": {},
     "output_type": "execute_result"
    }
   ],
   "source": [
    "np.triu(A)"
   ]
  },
  {
   "cell_type": "markdown",
   "metadata": {},
   "source": [
    "### Some manupulations on a matrix"
   ]
  },
  {
   "cell_type": "code",
   "execution_count": 33,
   "metadata": {},
   "outputs": [
    {
     "data": {
      "text/plain": [
       "-1"
      ]
     },
     "execution_count": 33,
     "metadata": {},
     "output_type": "execute_result"
    }
   ],
   "source": [
    "np.min(A)  # Finds the smallest element in a matrix"
   ]
  },
  {
   "cell_type": "code",
   "execution_count": 34,
   "metadata": {},
   "outputs": [
    {
     "data": {
      "text/plain": [
       "9"
      ]
     },
     "execution_count": 34,
     "metadata": {},
     "output_type": "execute_result"
    }
   ],
   "source": [
    "np.max(A)  # Finds the largest element in a matrix"
   ]
  },
  {
   "cell_type": "code",
   "execution_count": 35,
   "metadata": {},
   "outputs": [
    {
     "data": {
      "text/plain": [
       "3"
      ]
     },
     "execution_count": 35,
     "metadata": {},
     "output_type": "execute_result"
    }
   ],
   "source": [
    "len(A)"
   ]
  },
  {
   "cell_type": "markdown",
   "metadata": {},
   "source": [
    "The length of the matrix gives result as $3$ since its a **Nested array**. Each row is an individual array and $3$ arrays form $3$ rows. Meaning each row is considered as one element. \n",
    "\n",
    "But it is not the same when we use `sympy` to create the matrix. Because the matrix formed is not a nested array. Try it!"
   ]
  },
  {
   "cell_type": "code",
   "execution_count": 36,
   "metadata": {},
   "outputs": [
    {
     "data": {
      "text/plain": [
       "3"
      ]
     },
     "execution_count": 36,
     "metadata": {},
     "output_type": "execute_result"
    }
   ],
   "source": [
    "len(A[0])     #Gives number of elements in the first row, which indeed tells us the number of columns in the matrix."
   ]
  },
  {
   "cell_type": "markdown",
   "metadata": {},
   "source": [
    "To find the sum of all elements in a given matrix"
   ]
  },
  {
   "cell_type": "code",
   "execution_count": 37,
   "metadata": {},
   "outputs": [
    {
     "data": {
      "text/plain": [
       "24"
      ]
     },
     "execution_count": 37,
     "metadata": {},
     "output_type": "execute_result"
    }
   ],
   "source": [
    "Sum = np.sum(A)\n",
    "Sum"
   ]
  },
  {
   "cell_type": "markdown",
   "metadata": {},
   "source": [
    "To find the product of all elements in a given matrix"
   ]
  },
  {
   "cell_type": "code",
   "execution_count": 38,
   "metadata": {},
   "outputs": [
    {
     "data": {
      "text/plain": [
       "-432"
      ]
     },
     "execution_count": 38,
     "metadata": {},
     "output_type": "execute_result"
    }
   ],
   "source": [
    "prod = np.prod(A)\n",
    "prod"
   ]
  },
  {
   "cell_type": "markdown",
   "metadata": {},
   "source": [
    "To find the Trace of a matrix"
   ]
  },
  {
   "cell_type": "code",
   "execution_count": 39,
   "metadata": {},
   "outputs": [
    {
     "data": {
      "text/plain": [
       "9"
      ]
     },
     "execution_count": 39,
     "metadata": {},
     "output_type": "execute_result"
    }
   ],
   "source": [
    "np.trace(A)"
   ]
  },
  {
   "cell_type": "markdown",
   "metadata": {},
   "source": [
    "##### Operations between two matrices"
   ]
  },
  {
   "cell_type": "code",
   "execution_count": 40,
   "metadata": {},
   "outputs": [
    {
     "name": "stdout",
     "output_type": "stream",
     "text": [
      "[[ 1  2  1]\n",
      " [ 4 -1  1]\n",
      " [ 1  6  9]]\n",
      "[[-8  2  1]\n",
      " [ 4 -1  3]\n",
      " [ 4  7  9]]\n"
     ]
    }
   ],
   "source": [
    "A = np.array([[1, 2, 1],\n",
    "              [4, -1, 1],\n",
    "              [1, 6, 9]\n",
    "             ])\n",
    "B = np.array([[-8, 2, 1],\n",
    "             [4, -1, 3],\n",
    "             [4, 7, 9]\n",
    "             ])\n",
    "print(A)\n",
    "print(B)"
   ]
  },
  {
   "cell_type": "code",
   "execution_count": 41,
   "metadata": {},
   "outputs": [
    {
     "data": {
      "text/plain": [
       "array([[-7,  4,  2],\n",
       "       [ 8, -2,  4],\n",
       "       [ 5, 13, 18]])"
      ]
     },
     "execution_count": 41,
     "metadata": {},
     "output_type": "execute_result"
    }
   ],
   "source": [
    "#Element wise addition\n",
    "C = A + B\n",
    "C"
   ]
  },
  {
   "cell_type": "code",
   "execution_count": 42,
   "metadata": {},
   "outputs": [
    {
     "data": {
      "text/plain": [
       "array([[ 9,  0,  0],\n",
       "       [ 0,  0, -2],\n",
       "       [-3, -1,  0]])"
      ]
     },
     "execution_count": 42,
     "metadata": {},
     "output_type": "execute_result"
    }
   ],
   "source": [
    "#Element wise subtraction\n",
    "D = A - B\n",
    "D"
   ]
  },
  {
   "cell_type": "code",
   "execution_count": 43,
   "metadata": {},
   "outputs": [
    {
     "data": {
      "text/plain": [
       "array([[-8,  4,  1],\n",
       "       [16,  1,  3],\n",
       "       [ 4, 42, 81]])"
      ]
     },
     "execution_count": 43,
     "metadata": {},
     "output_type": "execute_result"
    }
   ],
   "source": [
    "#Element wise multiplication\n",
    "E = A*B\n",
    "E"
   ]
  },
  {
   "cell_type": "markdown",
   "metadata": {},
   "source": [
    "`A*B` results in **element wise multiplication**.\n",
    "\n",
    "`A.dot(B)` results in **matrix multiplication**."
   ]
  },
  {
   "cell_type": "code",
   "execution_count": 44,
   "metadata": {},
   "outputs": [
    {
     "data": {
      "text/plain": [
       "array([[  4,   7,  16],\n",
       "       [-32,  16,  10],\n",
       "       [ 52,  59, 100]])"
      ]
     },
     "execution_count": 44,
     "metadata": {},
     "output_type": "execute_result"
    }
   ],
   "source": [
    "# Matrix multiplication\n",
    "E1 = A.dot(B)\n",
    "E1"
   ]
  },
  {
   "cell_type": "code",
   "execution_count": 45,
   "metadata": {},
   "outputs": [
    {
     "data": {
      "text/plain": [
       "array([[-0.125     ,  1.        ,  1.        ],\n",
       "       [ 1.        ,  1.        ,  0.33333333],\n",
       "       [ 0.25      ,  0.85714286,  1.        ]])"
      ]
     },
     "execution_count": 45,
     "metadata": {},
     "output_type": "execute_result"
    }
   ],
   "source": [
    "#Element wise division\n",
    "F = A/B\n",
    "F"
   ]
  },
  {
   "cell_type": "code",
   "execution_count": 46,
   "metadata": {},
   "outputs": [
    {
     "data": {
      "text/plain": [
       "array([[ 2,  4,  2],\n",
       "       [ 8, -2,  2],\n",
       "       [ 2, 12, 18]])"
      ]
     },
     "execution_count": 46,
     "metadata": {},
     "output_type": "execute_result"
    }
   ],
   "source": [
    "# Scalar Multiplication\n",
    "G = 2*A\n",
    "G"
   ]
  },
  {
   "cell_type": "markdown",
   "metadata": {},
   "source": [
    "Square of a matrix can be found using either `M.dot(M)` or `np.linalg.matrix_power(M,2)` where $M$ is a matrix.\n",
    "\n",
    "For calculating higher powers, it is better use `np.linalg.matrix_power(M,n)`, where $n$ is the power to which the matrix needs to be raised."
   ]
  },
  {
   "cell_type": "code",
   "execution_count": 47,
   "metadata": {},
   "outputs": [
    {
     "data": {
      "text/plain": [
       "array([[10,  6, 12],\n",
       "       [ 1, 15, 12],\n",
       "       [34, 50, 88]])"
      ]
     },
     "execution_count": 47,
     "metadata": {},
     "output_type": "execute_result"
    }
   ],
   "source": [
    "H1 = A.dot(A)\n",
    "H1"
   ]
  },
  {
   "cell_type": "code",
   "execution_count": 48,
   "metadata": {},
   "outputs": [
    {
     "data": {
      "text/plain": [
       "array([[10,  6, 12],\n",
       "       [ 1, 15, 12],\n",
       "       [34, 50, 88]])"
      ]
     },
     "execution_count": 48,
     "metadata": {},
     "output_type": "execute_result"
    }
   ],
   "source": [
    "H2 = np.linalg.matrix_power(A,2)\n",
    "H2"
   ]
  },
  {
   "cell_type": "markdown",
   "metadata": {},
   "source": [
    "H3 and H4 are equal."
   ]
  },
  {
   "cell_type": "markdown",
   "metadata": {},
   "source": [
    "`x**2` where $x$ is any scalar will give the square of $x$, $x^2$. If $M$ is a Matrix, `M**2` will **not** result in square of matrix $M^2$, but will **result in square of elements of the matrix**. \n",
    "\n",
    "$ie. M_{ij}$\\*\\*2 $= m_{ij}^2$\n",
    "\n",
    "We can also use `np.square()` to find the square of elements of matrix."
   ]
  },
  {
   "cell_type": "code",
   "execution_count": 49,
   "metadata": {},
   "outputs": [
    {
     "data": {
      "text/plain": [
       "array([[ 1,  4,  1],\n",
       "       [16,  1,  1],\n",
       "       [ 1, 36, 81]], dtype=int32)"
      ]
     },
     "execution_count": 49,
     "metadata": {},
     "output_type": "execute_result"
    }
   ],
   "source": [
    "H3 = A**2\n",
    "H3"
   ]
  },
  {
   "cell_type": "code",
   "execution_count": 50,
   "metadata": {},
   "outputs": [
    {
     "data": {
      "text/plain": [
       "array([[ 1,  4,  1],\n",
       "       [16,  1,  1],\n",
       "       [ 1, 36, 81]], dtype=int32)"
      ]
     },
     "execution_count": 50,
     "metadata": {},
     "output_type": "execute_result"
    }
   ],
   "source": [
    "H4 = np.square(A)\n",
    "H4"
   ]
  },
  {
   "cell_type": "markdown",
   "metadata": {},
   "source": [
    "##### To access elements in an array"
   ]
  },
  {
   "cell_type": "code",
   "execution_count": 51,
   "metadata": {},
   "outputs": [],
   "source": [
    "A2 = [1, 2, 3, 5, 9, 13]"
   ]
  },
  {
   "cell_type": "code",
   "execution_count": 52,
   "metadata": {},
   "outputs": [
    {
     "data": {
      "text/plain": [
       "6"
      ]
     },
     "execution_count": 52,
     "metadata": {},
     "output_type": "execute_result"
    }
   ],
   "source": [
    "len(A2)      # There are 6 elements in the above array."
   ]
  },
  {
   "cell_type": "code",
   "execution_count": 53,
   "metadata": {},
   "outputs": [
    {
     "data": {
      "text/plain": [
       "2"
      ]
     },
     "execution_count": 53,
     "metadata": {},
     "output_type": "execute_result"
    }
   ],
   "source": [
    "A2[1]"
   ]
  },
  {
   "cell_type": "markdown",
   "metadata": {},
   "source": [
    "`A2[1]` gives the second element of the array since **indexing in python starts from $0$**. "
   ]
  },
  {
   "cell_type": "code",
   "execution_count": 54,
   "metadata": {},
   "outputs": [
    {
     "data": {
      "text/plain": [
       "1"
      ]
     },
     "execution_count": 54,
     "metadata": {},
     "output_type": "execute_result"
    }
   ],
   "source": [
    "A2[0]     "
   ]
  },
  {
   "cell_type": "markdown",
   "metadata": {},
   "source": [
    "This results in first element of the array. The index of the first element is 0(zero).\n",
    "\n",
    "To find the last element, the index is $n-1$ where $n$ is the length of the array. We can use either of the following commands."
   ]
  },
  {
   "cell_type": "code",
   "execution_count": 55,
   "metadata": {},
   "outputs": [
    {
     "data": {
      "text/plain": [
       "13"
      ]
     },
     "execution_count": 55,
     "metadata": {},
     "output_type": "execute_result"
    }
   ],
   "source": [
    "A2[-1]"
   ]
  },
  {
   "cell_type": "code",
   "execution_count": 56,
   "metadata": {},
   "outputs": [
    {
     "data": {
      "text/plain": [
       "13"
      ]
     },
     "execution_count": 56,
     "metadata": {},
     "output_type": "execute_result"
    }
   ],
   "source": [
    "A2[(len(A2)-1)]"
   ]
  },
  {
   "cell_type": "code",
   "execution_count": 57,
   "metadata": {},
   "outputs": [
    {
     "data": {
      "text/plain": [
       "[1, 2, 3, 5, 9, 13]"
      ]
     },
     "execution_count": 57,
     "metadata": {},
     "output_type": "execute_result"
    }
   ],
   "source": [
    "A2[:]     #Gives the entire array"
   ]
  },
  {
   "cell_type": "markdown",
   "metadata": {},
   "source": [
    "Suppose we have a nested array."
   ]
  },
  {
   "cell_type": "code",
   "execution_count": 58,
   "metadata": {},
   "outputs": [
    {
     "data": {
      "text/plain": [
       "array([[ 1,  2,  1],\n",
       "       [ 4, -1,  1],\n",
       "       [ 1,  6,  9]])"
      ]
     },
     "execution_count": 58,
     "metadata": {},
     "output_type": "execute_result"
    }
   ],
   "source": [
    "A"
   ]
  },
  {
   "cell_type": "code",
   "execution_count": 59,
   "metadata": {},
   "outputs": [
    {
     "data": {
      "text/plain": [
       "3"
      ]
     },
     "execution_count": 59,
     "metadata": {},
     "output_type": "execute_result"
    }
   ],
   "source": [
    "len(A)    # Already explained"
   ]
  },
  {
   "cell_type": "code",
   "execution_count": 60,
   "metadata": {},
   "outputs": [
    {
     "data": {
      "text/plain": [
       "array([1, 2, 1])"
      ]
     },
     "execution_count": 60,
     "metadata": {},
     "output_type": "execute_result"
    }
   ],
   "source": [
    "A[0]      # Gives the first element, in this case, its the first row"
   ]
  },
  {
   "cell_type": "markdown",
   "metadata": {},
   "source": [
    "In `A[][]`, the first bracket will refer to the **row/s** and the second bracket will refer to **column/s**. Also you can use `A[m, n]` where `m` represents rows and `n` represents columns.\n",
    "\n",
    "For the given matrix, `A[1][0]` or `A[1, 0]` will give the element in **2nd row, 1st column**.\n"
   ]
  },
  {
   "cell_type": "code",
   "execution_count": 61,
   "metadata": {},
   "outputs": [
    {
     "data": {
      "text/plain": [
       "4"
      ]
     },
     "execution_count": 61,
     "metadata": {},
     "output_type": "execute_result"
    }
   ],
   "source": [
    "A[1][0]"
   ]
  },
  {
   "cell_type": "code",
   "execution_count": 62,
   "metadata": {},
   "outputs": [
    {
     "data": {
      "text/plain": [
       "4"
      ]
     },
     "execution_count": 62,
     "metadata": {},
     "output_type": "execute_result"
    }
   ],
   "source": [
    "A[1, 0]"
   ]
  },
  {
   "cell_type": "code",
   "execution_count": 63,
   "metadata": {},
   "outputs": [
    {
     "data": {
      "text/plain": [
       "1"
      ]
     },
     "execution_count": 63,
     "metadata": {},
     "output_type": "execute_result"
    }
   ],
   "source": [
    "A[1][len(A)-1]"
   ]
  },
  {
   "cell_type": "code",
   "execution_count": 64,
   "metadata": {},
   "outputs": [
    {
     "data": {
      "text/plain": [
       "array([[ 1,  2,  1],\n",
       "       [ 4, -1,  1],\n",
       "       [ 1,  6,  9]])"
      ]
     },
     "execution_count": 64,
     "metadata": {},
     "output_type": "execute_result"
    }
   ],
   "source": [
    "A[:]     # Gives all the elements in the matrix"
   ]
  },
  {
   "cell_type": "code",
   "execution_count": 65,
   "metadata": {},
   "outputs": [
    {
     "data": {
      "text/plain": [
       "array([1, 2, 1])"
      ]
     },
     "execution_count": 65,
     "metadata": {},
     "output_type": "execute_result"
    }
   ],
   "source": [
    "A[0, :]    # First row, all columns"
   ]
  },
  {
   "cell_type": "code",
   "execution_count": 66,
   "metadata": {},
   "outputs": [
    {
     "data": {
      "text/plain": [
       "array([[1, 2, 1]])"
      ]
     },
     "execution_count": 66,
     "metadata": {},
     "output_type": "execute_result"
    }
   ],
   "source": [
    "A[:1,]     # First row of all the columns"
   ]
  },
  {
   "cell_type": "code",
   "execution_count": 67,
   "metadata": {},
   "outputs": [
    {
     "data": {
      "text/plain": [
       "array([1, 4, 1])"
      ]
     },
     "execution_count": 67,
     "metadata": {},
     "output_type": "execute_result"
    }
   ],
   "source": [
    "A[:,0]     # Gives elements in all the rows of the 1st column.."
   ]
  },
  {
   "cell_type": "code",
   "execution_count": 68,
   "metadata": {},
   "outputs": [
    {
     "data": {
      "text/plain": [
       "array([[ 1,  2],\n",
       "       [ 4, -1],\n",
       "       [ 1,  6]])"
      ]
     },
     "execution_count": 68,
     "metadata": {},
     "output_type": "execute_result"
    }
   ],
   "source": [
    "A[0:3, 0:2]      # Gives the elements from 1-3 rows and 1-2 columns"
   ]
  },
  {
   "cell_type": "markdown",
   "metadata": {},
   "source": [
    "`A[0:3, 0:2]` chooses elements from 1st row (index starts from 0) upto 3rd row ( We already know range(n) means n-1 elements, here 3 represents the index 2, which is 3rd row). Similarly for columns. 0:2 implies index 0 to index 1 by python, which are the first and second columns."
   ]
  },
  {
   "cell_type": "code",
   "execution_count": 69,
   "metadata": {},
   "outputs": [
    {
     "data": {
      "text/plain": [
       "array([[ 4, -1,  1],\n",
       "       [ 1,  6,  9]])"
      ]
     },
     "execution_count": 69,
     "metadata": {},
     "output_type": "execute_result"
    }
   ],
   "source": [
    "A[1:3, :]"
   ]
  },
  {
   "cell_type": "code",
   "execution_count": 70,
   "metadata": {},
   "outputs": [
    {
     "data": {
      "text/plain": [
       "9"
      ]
     },
     "execution_count": 70,
     "metadata": {},
     "output_type": "execute_result"
    }
   ],
   "source": [
    "A[2][2]"
   ]
  },
  {
   "cell_type": "markdown",
   "metadata": {},
   "source": [
    "## Exercise Problems"
   ]
  },
  {
   "cell_type": "markdown",
   "metadata": {},
   "source": [
    "1. Create matrices $A = \\begin{bmatrix}5 & -3 & 2\\\\ -6 & 10 & 7\\\\ 2 & 4 & 1 \\end{bmatrix}$ and  $B = \\begin{bmatrix}1 & 3 & -2\\\\ 8 & 2 & 1\\\\ 1 & -1 & 6 \\end{bmatrix}$"
   ]
  },
  {
   "cell_type": "code",
   "execution_count": 71,
   "metadata": {},
   "outputs": [
    {
     "name": "stdout",
     "output_type": "stream",
     "text": [
      "Matrix A is \n",
      " [[ 5 -3  2]\n",
      " [-6 10  7]\n",
      " [ 2  4  1]]\n",
      "\n",
      " Matrix B is \n",
      " [[ 1  3 -2]\n",
      " [ 8  2  1]\n",
      " [ 1 -1  6]]\n"
     ]
    }
   ],
   "source": [
    "import numpy as np\n",
    "A = np.array([[5, -3, 2],\n",
    "             [-6, 10, 7],\n",
    "              [2, 4, 1]\n",
    "             ])\n",
    "print(\"Matrix A is \\n\", A)\n",
    "\n",
    "B = np.array([[1, 3, -2],\n",
    "             [8, 2, 1],\n",
    "              [1, -1, 6]\n",
    "             ])\n",
    "print(\"\\n Matrix B is \\n\", B)"
   ]
  },
  {
   "cell_type": "markdown",
   "metadata": {},
   "source": [
    "2. Create a matrix $P$ of order 3x4 by taking random elements and then find transpose of $P$."
   ]
  },
  {
   "cell_type": "code",
   "execution_count": 72,
   "metadata": {},
   "outputs": [
    {
     "name": "stdout",
     "output_type": "stream",
     "text": [
      "Matrix P is: \n",
      " [[ 6 11 22 28]\n",
      " [ 2 16 28  1]\n",
      " [16 23 23 27]]\n",
      "\n",
      "Matrix PT is: \n",
      " [[ 6  2 16]\n",
      " [11 16 23]\n",
      " [22 28 23]\n",
      " [28  1 27]]\n"
     ]
    }
   ],
   "source": [
    "P = np.random.randint(30, size = (3, 4))\n",
    "print(\"Matrix P is: \\n\", P)\n",
    "PT = np.transpose(P)\n",
    "print(\"\\nMatrix PT is: \\n\", PT)"
   ]
  },
  {
   "cell_type": "markdown",
   "metadata": {},
   "source": [
    "3. Create matrices p = $\\begin{bmatrix} 1 & 5 & 6\\\\ 7 & 8 & 10\\\\ 0 & 1 & 5 \\end{bmatrix} $ and q = $\\begin{bmatrix} 7 & 8 & 10\\\\ 15 & 1 & 2\\\\ 3 & 7 & 5 \\end{bmatrix}$\n",
    "\n",
    "Compute\n",
    "(i) $p + q$\n",
    "(ii) $pq$\n",
    "(iii) $p - q$ \n",
    "(iv) $p^{-1}$\n",
    "(v) $p^2$\n",
    "(vi) $3p + 4q$ (vii) $5p^2 + 7q^2$\n",
    "(viii) $p * q$(elementwise multiplication)\n",
    "(ix) $p' + q'$\n",
    "(x) $3pq' + 5qp'$"
   ]
  },
  {
   "cell_type": "code",
   "execution_count": 73,
   "metadata": {},
   "outputs": [
    {
     "name": "stdout",
     "output_type": "stream",
     "text": [
      "[[ 1  5  6]\n",
      " [ 7  8 10]\n",
      " [ 0  1  5]]\n",
      "\n",
      " [[ 7  8 10]\n",
      " [15  1  2]\n",
      " [ 3  7  5]]\n"
     ]
    }
   ],
   "source": [
    "p = np.array([[1, 5, 6],\n",
    "              [7, 8, 10],\n",
    "              [0, 1, 5]\n",
    "             ])\n",
    "q = np.array([[7, 8, 10],\n",
    "              [15, 1, 2],\n",
    "              [3, 7, 5]\n",
    "             ])\n",
    "print(p,)\n",
    "print(\"\\n\", q)"
   ]
  },
  {
   "cell_type": "code",
   "execution_count": 74,
   "metadata": {},
   "outputs": [
    {
     "data": {
      "text/plain": [
       "array([[ 8, 13, 16],\n",
       "       [22,  9, 12],\n",
       "       [ 3,  8, 10]])"
      ]
     },
     "execution_count": 74,
     "metadata": {},
     "output_type": "execute_result"
    }
   ],
   "source": [
    "p+q"
   ]
  },
  {
   "cell_type": "code",
   "execution_count": 75,
   "metadata": {},
   "outputs": [
    {
     "data": {
      "text/plain": [
       "array([[100,  55,  50],\n",
       "       [199, 134, 136],\n",
       "       [ 30,  36,  27]])"
      ]
     },
     "execution_count": 75,
     "metadata": {},
     "output_type": "execute_result"
    }
   ],
   "source": [
    "p.dot(q)"
   ]
  },
  {
   "cell_type": "code",
   "execution_count": 76,
   "metadata": {},
   "outputs": [
    {
     "data": {
      "text/plain": [
       "array([[-6, -3, -4],\n",
       "       [-8,  7,  8],\n",
       "       [-3, -6,  0]])"
      ]
     },
     "execution_count": 76,
     "metadata": {},
     "output_type": "execute_result"
    }
   ],
   "source": [
    "p-q"
   ]
  },
  {
   "cell_type": "code",
   "execution_count": 77,
   "metadata": {},
   "outputs": [
    {
     "data": {
      "text/plain": [
       "array([[-0.29126214,  0.18446602, -0.01941748],\n",
       "       [ 0.33980583, -0.04854369, -0.31067961],\n",
       "       [-0.06796117,  0.00970874,  0.26213592]])"
      ]
     },
     "execution_count": 77,
     "metadata": {},
     "output_type": "execute_result"
    }
   ],
   "source": [
    "np.linalg.inv(p)"
   ]
  },
  {
   "cell_type": "code",
   "execution_count": 78,
   "metadata": {},
   "outputs": [
    {
     "data": {
      "text/plain": [
       "array([[ 36,  51,  86],\n",
       "       [ 63, 109, 172],\n",
       "       [  7,  13,  35]])"
      ]
     },
     "execution_count": 78,
     "metadata": {},
     "output_type": "execute_result"
    }
   ],
   "source": [
    "p.dot(p)"
   ]
  },
  {
   "cell_type": "code",
   "execution_count": 79,
   "metadata": {},
   "outputs": [
    {
     "data": {
      "text/plain": [
       "array([[31, 47, 58],\n",
       "       [81, 28, 38],\n",
       "       [12, 31, 35]])"
      ]
     },
     "execution_count": 79,
     "metadata": {},
     "output_type": "execute_result"
    }
   ],
   "source": [
    "3*p + 4*q"
   ]
  },
  {
   "cell_type": "code",
   "execution_count": 80,
   "metadata": {},
   "outputs": [
    {
     "data": {
      "text/plain": [
       "array([[1573, 1193, 1382],\n",
       "       [1197, 1490, 1994],\n",
       "       [1022,  527,  658]])"
      ]
     },
     "execution_count": 80,
     "metadata": {},
     "output_type": "execute_result"
    }
   ],
   "source": [
    "5*(p.dot(p)) + 7*q.dot(q)"
   ]
  },
  {
   "cell_type": "code",
   "execution_count": 81,
   "metadata": {},
   "outputs": [
    {
     "data": {
      "text/plain": [
       "array([[  7,  40,  60],\n",
       "       [105,   8,  20],\n",
       "       [  0,   7,  25]])"
      ]
     },
     "execution_count": 81,
     "metadata": {},
     "output_type": "execute_result"
    }
   ],
   "source": [
    "p*q"
   ]
  },
  {
   "cell_type": "code",
   "execution_count": 82,
   "metadata": {},
   "outputs": [
    {
     "data": {
      "text/plain": [
       "array([[ 8, 22,  3],\n",
       "       [13,  9,  8],\n",
       "       [16, 12, 10]])"
      ]
     },
     "execution_count": 82,
     "metadata": {},
     "output_type": "execute_result"
    }
   ],
   "source": [
    "np.transpose(p) + np.transpose(q)"
   ]
  },
  {
   "cell_type": "code",
   "execution_count": 83,
   "metadata": {},
   "outputs": [
    {
     "data": {
      "text/plain": [
       "array([[ 856, 1161,  494],\n",
       "       [ 799, 1064,  436],\n",
       "       [ 514,  668,  256]])"
      ]
     },
     "execution_count": 83,
     "metadata": {},
     "output_type": "execute_result"
    }
   ],
   "source": [
    "3*p.dot(np.transpose(q)) + 5*q.dot(np.transpose(p))"
   ]
  },
  {
   "cell_type": "markdown",
   "metadata": {},
   "source": [
    "4. For the matrices $A$ and $B$, find\n",
    "(i) $a_{23}$\n",
    "(ii) $b_{32}$\n",
    "(iii) $row_{1}(A)$\n",
    "(iv) $col_{1}(A)$\n",
    "(v) $row_{2}(B)$"
   ]
  },
  {
   "cell_type": "code",
   "execution_count": 84,
   "metadata": {},
   "outputs": [],
   "source": [
    "A = np.array([[5, -3, 2],\n",
    "              [-6, 10, 7],\n",
    "              [2, 4, 10]\n",
    "             ], dtype = \"float64\")\n",
    "B = np.array([[4*2, 2/30],\n",
    "              [1/205, 5-7.8],\n",
    "              [0.0001, (9+80/50)]\n",
    "             ], dtype = \"float64\")"
   ]
  },
  {
   "cell_type": "code",
   "execution_count": 85,
   "metadata": {},
   "outputs": [
    {
     "data": {
      "text/plain": [
       "array([[ 5., -3.,  2.],\n",
       "       [-6., 10.,  7.],\n",
       "       [ 2.,  4., 10.]])"
      ]
     },
     "execution_count": 85,
     "metadata": {},
     "output_type": "execute_result"
    }
   ],
   "source": [
    "A"
   ]
  },
  {
   "cell_type": "code",
   "execution_count": 86,
   "metadata": {},
   "outputs": [
    {
     "data": {
      "text/plain": [
       "array([[ 8.00000000e+00,  6.66666667e-02],\n",
       "       [ 4.87804878e-03, -2.80000000e+00],\n",
       "       [ 1.00000000e-04,  1.06000000e+01]])"
      ]
     },
     "execution_count": 86,
     "metadata": {},
     "output_type": "execute_result"
    }
   ],
   "source": [
    "B"
   ]
  },
  {
   "cell_type": "code",
   "execution_count": 87,
   "metadata": {},
   "outputs": [
    {
     "data": {
      "text/plain": [
       "7.0"
      ]
     },
     "execution_count": 87,
     "metadata": {},
     "output_type": "execute_result"
    }
   ],
   "source": [
    "# i)\n",
    "A[1,2]"
   ]
  },
  {
   "cell_type": "code",
   "execution_count": 88,
   "metadata": {},
   "outputs": [
    {
     "data": {
      "text/plain": [
       "10.6"
      ]
     },
     "execution_count": 88,
     "metadata": {},
     "output_type": "execute_result"
    }
   ],
   "source": [
    "# ii)\n",
    "B[2, 1]"
   ]
  },
  {
   "cell_type": "code",
   "execution_count": 89,
   "metadata": {},
   "outputs": [
    {
     "data": {
      "text/plain": [
       "array([ 5., -3.,  2.])"
      ]
     },
     "execution_count": 89,
     "metadata": {},
     "output_type": "execute_result"
    }
   ],
   "source": [
    "# iii)\n",
    "A[0]"
   ]
  },
  {
   "cell_type": "code",
   "execution_count": 90,
   "metadata": {},
   "outputs": [
    {
     "data": {
      "text/plain": [
       "array([ 5., -6.,  2.])"
      ]
     },
     "execution_count": 90,
     "metadata": {},
     "output_type": "execute_result"
    }
   ],
   "source": [
    "# iv)\n",
    "A[:, 0]"
   ]
  },
  {
   "cell_type": "code",
   "execution_count": 91,
   "metadata": {},
   "outputs": [
    {
     "data": {
      "text/plain": [
       "array([ 0.00487805, -2.8       ])"
      ]
     },
     "execution_count": 91,
     "metadata": {},
     "output_type": "execute_result"
    }
   ],
   "source": [
    "# v)\n",
    "B[1]"
   ]
  },
  {
   "cell_type": "markdown",
   "metadata": {},
   "source": [
    "5. Compute the following if possible, otherwise give reason why its\n",
    "not possible\n",
    "(i) $A * C$\n",
    "(ii) $A.*C$\n",
    "(iii) $A + C'$\n",
    "(iv) $B * A - C' * A$\n",
    "(v) $(2 + C - 6 * A') * B'$ \n",
    "(vi) $A * C - C * A$\n",
    "(vii) $A * A' + C' * C$"
   ]
  },
  {
   "cell_type": "code",
   "execution_count": 92,
   "metadata": {},
   "outputs": [],
   "source": [
    "A = np.array([[1, 1/2],\n",
    "              [1/3, 1/4],\n",
    "              [1/5, 1/6]\n",
    "             ])\n",
    "B = np.array([5, 2])\n",
    "C = np.array([[4, 4/5, 10/7],\n",
    "              [1, 5, 6]\n",
    "             ])"
   ]
  },
  {
   "cell_type": "code",
   "execution_count": 93,
   "metadata": {},
   "outputs": [
    {
     "data": {
      "text/plain": [
       "array([[4.5       , 3.3       , 4.42857143],\n",
       "       [1.58333333, 1.51666667, 1.97619048],\n",
       "       [0.96666667, 0.99333333, 1.28571429]])"
      ]
     },
     "execution_count": 93,
     "metadata": {},
     "output_type": "execute_result"
    }
   ],
   "source": [
    "# i)\n",
    "A.dot(C)"
   ]
  },
  {
   "cell_type": "code",
   "execution_count": 94,
   "metadata": {},
   "outputs": [
    {
     "ename": "ValueError",
     "evalue": "operands could not be broadcast together with shapes (3,2) (2,3) ",
     "output_type": "error",
     "traceback": [
      "\u001b[1;31m---------------------------------------------------------------------------\u001b[0m",
      "\u001b[1;31mValueError\u001b[0m                                Traceback (most recent call last)",
      "\u001b[1;32m<ipython-input-94-8c8d7abe9a01>\u001b[0m in \u001b[0;36m<module>\u001b[1;34m\u001b[0m\n\u001b[0;32m      1\u001b[0m \u001b[1;31m# ii)\u001b[0m\u001b[1;33m\u001b[0m\u001b[1;33m\u001b[0m\u001b[1;33m\u001b[0m\u001b[0m\n\u001b[1;32m----> 2\u001b[1;33m \u001b[0mA\u001b[0m\u001b[1;33m**\u001b[0m\u001b[0mC\u001b[0m     \u001b[1;31m# Read the error and you can come to conclusion easily.\u001b[0m\u001b[1;33m\u001b[0m\u001b[1;33m\u001b[0m\u001b[0m\n\u001b[0m",
      "\u001b[1;31mValueError\u001b[0m: operands could not be broadcast together with shapes (3,2) (2,3) "
     ]
    }
   ],
   "source": [
    "# ii)\n",
    "A**C     # Read the error and you can come to conclusion easily."
   ]
  },
  {
   "cell_type": "code",
   "execution_count": 95,
   "metadata": {},
   "outputs": [
    {
     "data": {
      "text/plain": [
       "array([[5.        , 1.5       ],\n",
       "       [1.13333333, 5.25      ],\n",
       "       [1.62857143, 6.16666667]])"
      ]
     },
     "execution_count": 95,
     "metadata": {},
     "output_type": "execute_result"
    }
   ],
   "source": [
    "# iii)\n",
    "A + np.transpose(C)"
   ]
  },
  {
   "cell_type": "code",
   "execution_count": 96,
   "metadata": {},
   "outputs": [
    {
     "data": {
      "text/plain": [
       "array([[0.        , 0.8       , 2.22857143],\n",
       "       [0.        , 5.5       , 7.        ]])"
      ]
     },
     "execution_count": 96,
     "metadata": {},
     "output_type": "execute_result"
    }
   ],
   "source": [
    "# iv)\n",
    "(2 + C - 6*np.transpose(A))#dot(np.transpose(B))"
   ]
  },
  {
   "cell_type": "code",
   "execution_count": 97,
   "metadata": {},
   "outputs": [
    {
     "ename": "ValueError",
     "evalue": "shapes (2,3) and (2,) not aligned: 3 (dim 1) != 2 (dim 0)",
     "output_type": "error",
     "traceback": [
      "\u001b[1;31m---------------------------------------------------------------------------\u001b[0m",
      "\u001b[1;31mValueError\u001b[0m                                Traceback (most recent call last)",
      "\u001b[1;32m<ipython-input-97-c4bb1c271220>\u001b[0m in \u001b[0;36m<module>\u001b[1;34m\u001b[0m\n\u001b[0;32m      1\u001b[0m \u001b[1;31m# v)\u001b[0m\u001b[1;33m\u001b[0m\u001b[1;33m\u001b[0m\u001b[1;33m\u001b[0m\u001b[0m\n\u001b[1;32m----> 2\u001b[1;33m \u001b[1;33m(\u001b[0m\u001b[1;36m2\u001b[0m \u001b[1;33m+\u001b[0m \u001b[0mC\u001b[0m \u001b[1;33m-\u001b[0m \u001b[1;36m6\u001b[0m\u001b[1;33m*\u001b[0m\u001b[0mnp\u001b[0m\u001b[1;33m.\u001b[0m\u001b[0mtranspose\u001b[0m\u001b[1;33m(\u001b[0m\u001b[0mA\u001b[0m\u001b[1;33m)\u001b[0m\u001b[1;33m)\u001b[0m\u001b[1;33m.\u001b[0m\u001b[0mdot\u001b[0m\u001b[1;33m(\u001b[0m\u001b[0mnp\u001b[0m\u001b[1;33m.\u001b[0m\u001b[0mtranspose\u001b[0m\u001b[1;33m(\u001b[0m\u001b[0mB\u001b[0m\u001b[1;33m)\u001b[0m\u001b[1;33m)\u001b[0m\u001b[1;33m\u001b[0m\u001b[1;33m\u001b[0m\u001b[0m\n\u001b[0m\u001b[0;32m      3\u001b[0m \u001b[1;31m# Go through the dim of matrices for the reason\u001b[0m\u001b[1;33m\u001b[0m\u001b[1;33m\u001b[0m\u001b[1;33m\u001b[0m\u001b[0m\n",
      "\u001b[1;31mValueError\u001b[0m: shapes (2,3) and (2,) not aligned: 3 (dim 1) != 2 (dim 0)"
     ]
    }
   ],
   "source": [
    "# v)\n",
    "(2 + C - 6*np.transpose(A)).dot(np.transpose(B))\n",
    "# Go through the dim of matrices for the reason"
   ]
  },
  {
   "cell_type": "code",
   "execution_count": 98,
   "metadata": {},
   "outputs": [
    {
     "data": {
      "text/plain": [
       "array([ 0.        , 15.        , 25.14285714])"
      ]
     },
     "execution_count": 98,
     "metadata": {},
     "output_type": "execute_result"
    }
   ],
   "source": [
    "# v)a. Why does this work?\n",
    "np.transpose(B).dot((2 + C - 6*np.transpose(A)))"
   ]
  },
  {
   "cell_type": "code",
   "execution_count": 99,
   "metadata": {},
   "outputs": [
    {
     "ename": "ValueError",
     "evalue": "operands could not be broadcast together with shapes (3,3) (2,2) ",
     "output_type": "error",
     "traceback": [
      "\u001b[1;31m---------------------------------------------------------------------------\u001b[0m",
      "\u001b[1;31mValueError\u001b[0m                                Traceback (most recent call last)",
      "\u001b[1;32m<ipython-input-99-abbdc47f2b94>\u001b[0m in \u001b[0;36m<module>\u001b[1;34m\u001b[0m\n\u001b[0;32m      1\u001b[0m \u001b[1;31m# vi)\u001b[0m\u001b[1;33m\u001b[0m\u001b[1;33m\u001b[0m\u001b[1;33m\u001b[0m\u001b[0m\n\u001b[1;32m----> 2\u001b[1;33m \u001b[0mA\u001b[0m\u001b[1;33m.\u001b[0m\u001b[0mdot\u001b[0m\u001b[1;33m(\u001b[0m\u001b[0mC\u001b[0m\u001b[1;33m)\u001b[0m \u001b[1;33m-\u001b[0m \u001b[0mC\u001b[0m\u001b[1;33m.\u001b[0m\u001b[0mdot\u001b[0m\u001b[1;33m(\u001b[0m\u001b[0mA\u001b[0m\u001b[1;33m)\u001b[0m\u001b[1;33m\u001b[0m\u001b[1;33m\u001b[0m\u001b[0m\n\u001b[0m",
      "\u001b[1;31mValueError\u001b[0m: operands could not be broadcast together with shapes (3,3) (2,2) "
     ]
    }
   ],
   "source": [
    "# vi)\n",
    "A.dot(C) - C.dot(A)"
   ]
  },
  {
   "cell_type": "code",
   "execution_count": 100,
   "metadata": {},
   "outputs": [
    {
     "data": {
      "text/plain": [
       "array([[18.25      ,  8.65833333, 11.99761905],\n",
       "       [ 8.65833333, 25.81361111, 31.25119048],\n",
       "       [11.99761905, 31.25119048, 38.1085941 ]])"
      ]
     },
     "execution_count": 100,
     "metadata": {},
     "output_type": "execute_result"
    }
   ],
   "source": [
    "# vii)\n",
    "A.dot(np.transpose(A)) + np.transpose(C).dot(C)"
   ]
  },
  {
   "cell_type": "markdown",
   "metadata": {},
   "source": [
    "6. Create\n",
    "(i) 5 x 4 unit matrix.\n",
    "(ii) 10 x 11 zero matrix.\n",
    "(iii) 14 x 14 diagonal matrix.\n",
    "(iv) 15 x 15 random matrix.\n",
    "(v) 16 x 16 scalar matrix.\n",
    "(vi) 6 x 6 identity matrix.\n",
    "(vii) 6 x 6 tridiagonal matrix.\n",
    "(viii) 4 x 4 diagonal matrix with diagonal elements equal to five."
   ]
  },
  {
   "cell_type": "code",
   "execution_count": 101,
   "metadata": {},
   "outputs": [
    {
     "data": {
      "text/plain": [
       "array([[ 4,  0,  0,  0,  0,  0,  0,  0,  0,  0,  0,  0,  0,  0],\n",
       "       [ 0, 10,  0,  0,  0,  0,  0,  0,  0,  0,  0,  0,  0,  0],\n",
       "       [ 0,  0, 11,  0,  0,  0,  0,  0,  0,  0,  0,  0,  0,  0],\n",
       "       [ 0,  0,  0,  0,  0,  0,  0,  0,  0,  0,  0,  0,  0,  0],\n",
       "       [ 0,  0,  0,  0, 10,  0,  0,  0,  0,  0,  0,  0,  0,  0],\n",
       "       [ 0,  0,  0,  0,  0,  5,  0,  0,  0,  0,  0,  0,  0,  0],\n",
       "       [ 0,  0,  0,  0,  0,  0, 12,  0,  0,  0,  0,  0,  0,  0],\n",
       "       [ 0,  0,  0,  0,  0,  0,  0,  4,  0,  0,  0,  0,  0,  0],\n",
       "       [ 0,  0,  0,  0,  0,  0,  0,  0,  5,  0,  0,  0,  0,  0],\n",
       "       [ 0,  0,  0,  0,  0,  0,  0,  0,  0,  8,  0,  0,  0,  0],\n",
       "       [ 0,  0,  0,  0,  0,  0,  0,  0,  0,  0, 11,  0,  0,  0],\n",
       "       [ 0,  0,  0,  0,  0,  0,  0,  0,  0,  0,  0, 11,  0,  0],\n",
       "       [ 0,  0,  0,  0,  0,  0,  0,  0,  0,  0,  0,  0,  3,  0],\n",
       "       [ 0,  0,  0,  0,  0,  0,  0,  0,  0,  0,  0,  0,  0, 11]])"
      ]
     },
     "execution_count": 101,
     "metadata": {},
     "output_type": "execute_result"
    }
   ],
   "source": [
    "# iii)\n",
    "d = np.random.randint(14, size = (14))\n",
    "np.diag(d)"
   ]
  },
  {
   "cell_type": "code",
   "execution_count": 102,
   "metadata": {},
   "outputs": [
    {
     "data": {
      "text/plain": [
       "array([[95, 55, 39, 19, 75, 28, 26,  5, 10, 15, 96, 59, 30, 79, 67],\n",
       "       [97, 90, 13, 20, 13, 78, 89,  7, 26, 52,  0, 58, 53, 92, 32],\n",
       "       [76, 27, 25, 39, 94, 68, 43, 29,  5, 54, 62, 39, 25, 47, 83],\n",
       "       [ 0, 92, 77, 53, 94, 66, 59, 57, 18, 99,  5, 73, 35,  0, 97],\n",
       "       [75,  1, 26, 31, 85, 37, 37, 90, 98, 85, 76, 67, 94, 55, 26],\n",
       "       [58, 44, 97, 57, 92, 94, 27, 24, 45, 29, 14, 51, 56, 59, 30],\n",
       "       [48, 70, 53, 85, 86, 69,  9, 29, 22,  3, 69, 97, 89, 85, 36],\n",
       "       [52, 32, 95, 37, 23, 92,  2, 69, 52, 72, 91, 38, 39, 95, 44],\n",
       "       [35, 19, 59, 52, 51, 29, 29, 10, 65, 15,  0, 19, 34, 42, 28],\n",
       "       [63,  6, 16, 87, 51, 28, 93, 22, 77,  5, 51, 73, 32, 43, 52],\n",
       "       [87, 85, 70, 17, 59,  5, 70, 36, 63, 80, 74, 59, 75, 71, 42],\n",
       "       [84,  2, 27, 41,  2, 76, 36, 53, 85, 45, 93, 14,  2, 20, 93],\n",
       "       [13, 84, 44, 13, 46, 59, 93, 89, 52, 26, 54, 93, 25, 14, 91],\n",
       "       [34, 47, 87, 48, 97, 52, 28, 35, 63, 47, 90,  8, 98, 35, 12],\n",
       "       [70, 84, 49, 76, 22, 24, 98, 84, 83,  7, 35,  6, 67, 88, 97]])"
      ]
     },
     "execution_count": 102,
     "metadata": {},
     "output_type": "execute_result"
    }
   ],
   "source": [
    "# iv)\n",
    "np.random.randint(100, size=(15, 15))"
   ]
  },
  {
   "cell_type": "code",
   "execution_count": 103,
   "metadata": {},
   "outputs": [
    {
     "data": {
      "text/plain": [
       "array([[5, 0, 0, 0, 0, 0, 0, 0, 0, 0, 0, 0, 0, 0, 0, 0],\n",
       "       [0, 5, 0, 0, 0, 0, 0, 0, 0, 0, 0, 0, 0, 0, 0, 0],\n",
       "       [0, 0, 5, 0, 0, 0, 0, 0, 0, 0, 0, 0, 0, 0, 0, 0],\n",
       "       [0, 0, 0, 5, 0, 0, 0, 0, 0, 0, 0, 0, 0, 0, 0, 0],\n",
       "       [0, 0, 0, 0, 5, 0, 0, 0, 0, 0, 0, 0, 0, 0, 0, 0],\n",
       "       [0, 0, 0, 0, 0, 5, 0, 0, 0, 0, 0, 0, 0, 0, 0, 0],\n",
       "       [0, 0, 0, 0, 0, 0, 5, 0, 0, 0, 0, 0, 0, 0, 0, 0],\n",
       "       [0, 0, 0, 0, 0, 0, 0, 5, 0, 0, 0, 0, 0, 0, 0, 0],\n",
       "       [0, 0, 0, 0, 0, 0, 0, 0, 5, 0, 0, 0, 0, 0, 0, 0],\n",
       "       [0, 0, 0, 0, 0, 0, 0, 0, 0, 5, 0, 0, 0, 0, 0, 0],\n",
       "       [0, 0, 0, 0, 0, 0, 0, 0, 0, 0, 5, 0, 0, 0, 0, 0],\n",
       "       [0, 0, 0, 0, 0, 0, 0, 0, 0, 0, 0, 5, 0, 0, 0, 0],\n",
       "       [0, 0, 0, 0, 0, 0, 0, 0, 0, 0, 0, 0, 5, 0, 0, 0],\n",
       "       [0, 0, 0, 0, 0, 0, 0, 0, 0, 0, 0, 0, 0, 5, 0, 0],\n",
       "       [0, 0, 0, 0, 0, 0, 0, 0, 0, 0, 0, 0, 0, 0, 5, 0],\n",
       "       [0, 0, 0, 0, 0, 0, 0, 0, 0, 0, 0, 0, 0, 0, 0, 5]])"
      ]
     },
     "execution_count": 103,
     "metadata": {},
     "output_type": "execute_result"
    }
   ],
   "source": [
    "# v)\n",
    "d1 = np.repeat(5, 16)\n",
    "np.diag(d1)"
   ]
  },
  {
   "cell_type": "markdown",
   "metadata": {},
   "source": [
    "7. Create a 4 x 4 square matrix with random elements from 0 to 36 then find\n",
    "(i) the square of the matrix.\n",
    "(ii) element by element square.\n",
    "(iii) trace of the matrix.\n",
    "(iv) eigenvalue of the matrix.\n",
    "(v) maximum value.\n",
    "(vi) minimum value.\n",
    "(vii) sum of each column.\n",
    "(viii) sum of each row.\n",
    "(ix) product of all the elements.\n",
    "(x) display 3rd row."
   ]
  },
  {
   "cell_type": "code",
   "execution_count": 104,
   "metadata": {},
   "outputs": [
    {
     "data": {
      "text/plain": [
       "array([[35, 26, 24, 22],\n",
       "       [26, 10, 32, 26],\n",
       "       [ 0, 12, 20,  5],\n",
       "       [12, 36, 15, 22]])"
      ]
     },
     "execution_count": 104,
     "metadata": {},
     "output_type": "execute_result"
    }
   ],
   "source": [
    "A = np.random.randint(37, size = (4, 4))\n",
    "A"
   ]
  },
  {
   "cell_type": "code",
   "execution_count": 105,
   "metadata": {},
   "outputs": [
    {
     "name": "stdout",
     "output_type": "stream",
     "text": [
      "Finding Sum of each column:\n",
      "\n",
      "Sum of the column 0 = 73\n",
      "Sum of the column 1 = 84\n",
      "Sum of the column 2 = 91\n",
      "Sum of the column 3 = 75\n"
     ]
    }
   ],
   "source": [
    "# vii) Sum of each column\n",
    "[m, n] = np.shape(A)\n",
    "\n",
    "Sum = 0\n",
    "\n",
    "print(\"Finding Sum of each column:\\n\") \n",
    "  \n",
    "# finding the column sum  \n",
    "for i in range(4) : \n",
    "    for j in range(4) : \n",
    "        # Add the element  \n",
    "        Sum += A[j][i] \n",
    "  \n",
    "    # Print the column sum \n",
    "    print(\"Sum of the column\",i,\"=\",Sum) \n",
    "  \n",
    "    # Reset the sum  \n",
    "    Sum = 0"
   ]
  },
  {
   "cell_type": "markdown",
   "metadata": {},
   "source": [
    "Similarly, one can do for the other problems as well."
   ]
  },
  {
   "cell_type": "markdown",
   "metadata": {},
   "source": [
    "# Row reduced echelon form and normal form"
   ]
  },
  {
   "cell_type": "markdown",
   "metadata": {},
   "source": [
    "The rank of a matrix can be found by using `NumPy`. But to find the *Row reduced or Echelon form* of the matrices, we use `SymPy` library which is easier in this case."
   ]
  },
  {
   "cell_type": "code",
   "execution_count": 106,
   "metadata": {},
   "outputs": [
    {
     "data": {
      "text/latex": [
       "$\\displaystyle \\left[\\begin{matrix}1 & 1 & -1 & 3\\\\2 & -2 & 6 & 8\\\\3 & 5 & -7 & 8\\end{matrix}\\right]$"
      ],
      "text/plain": [
       "Matrix([\n",
       "[1,  1, -1, 3],\n",
       "[2, -2,  6, 8],\n",
       "[3,  5, -7, 8]])"
      ]
     },
     "execution_count": 106,
     "metadata": {},
     "output_type": "execute_result"
    }
   ],
   "source": [
    "from sympy import *\n",
    "A = Matrix([[1, 1, -1, 3],\n",
    "              [2, -2, 6, 8],\n",
    "              [3, 5, -7, 8]\n",
    "             ])\n",
    "A"
   ]
  },
  {
   "cell_type": "markdown",
   "metadata": {},
   "source": [
    "We use the command `M.rref()` to get the *Row reduced echelon form* of the matirx M"
   ]
  },
  {
   "cell_type": "code",
   "execution_count": 107,
   "metadata": {},
   "outputs": [
    {
     "data": {
      "text/plain": [
       "(Matrix([\n",
       " [1, 0,  1,  7/2],\n",
       " [0, 1, -2, -1/2],\n",
       " [0, 0,  0,    0]]),\n",
       " (0, 1))"
      ]
     },
     "execution_count": 107,
     "metadata": {},
     "output_type": "execute_result"
    }
   ],
   "source": [
    "A1 = A.rref()\n",
    "A1"
   ]
  },
  {
   "cell_type": "markdown",
   "metadata": {},
   "source": [
    "Observe that there is a `tuple` in the above result $A1$. To get rid of the `tuple`, we again form the same matrix $A1$ using `sympy` which helps in reducing the matrix to normal form."
   ]
  },
  {
   "cell_type": "code",
   "execution_count": 108,
   "metadata": {},
   "outputs": [
    {
     "data": {
      "text/latex": [
       "$\\displaystyle \\left[\\begin{matrix}1 & 0 & 1 & 3.5\\\\0 & 1 & -2 & -0.5\\\\0 & 0 & 0 & 0\\end{matrix}\\right]$"
      ],
      "text/plain": [
       "Matrix([\n",
       "[1, 0,  1,  3.5],\n",
       "[0, 1, -2, -0.5],\n",
       "[0, 0,  0,    0]])"
      ]
     },
     "execution_count": 108,
     "metadata": {},
     "output_type": "execute_result"
    }
   ],
   "source": [
    "A1 = Matrix([\n",
    " [1, 0,  1,  7/2],\n",
    " [0, 1, -2, -1/2],\n",
    " [0, 0,  0,    0]])\n",
    "A1"
   ]
  },
  {
   "cell_type": "markdown",
   "metadata": {},
   "source": [
    "We first find the `dimension` of the matrix and then reduce it to normal form using the following code."
   ]
  },
  {
   "cell_type": "code",
   "execution_count": 109,
   "metadata": {},
   "outputs": [
    {
     "data": {
      "text/latex": [
       "$\\displaystyle \\left[\\begin{matrix}1 & 0 & 0 & 0\\\\0 & 1 & 0 & 0\\\\0 & 0 & 0 & 0\\end{matrix}\\right]$"
      ],
      "text/plain": [
       "Matrix([\n",
       "[1, 0, 0, 0],\n",
       "[0, 1, 0, 0],\n",
       "[0, 0, 0, 0]])"
      ]
     },
     "execution_count": 109,
     "metadata": {},
     "output_type": "execute_result"
    }
   ],
   "source": [
    "[m, n] = A1.shape\n",
    "for i in range(m):\n",
    "    for j in range(i+1, n):\n",
    "        A1[i,j] = A1[i,j] - A1[i,j]*A1[i,i]\n",
    "A1"
   ]
  },
  {
   "cell_type": "markdown",
   "metadata": {},
   "source": [
    "Though `rref` cannot be achieved by `numpy`, we can reduce the `rref` matrix (obtained by using `sympy`) to normal form with the help of `numpy`. The `A1` matrix created above should be first saved as an `np.array` and `float` datatype and again use similar kind of commands. \n",
    "\n",
    "Observe that the algorithm/structure of the program may remain the same while the commands for different libraries differs."
   ]
  },
  {
   "cell_type": "code",
   "execution_count": 110,
   "metadata": {},
   "outputs": [
    {
     "data": {
      "text/latex": [
       "$\\displaystyle \\left[\\begin{matrix}1 & 0 & 1 & 3.5\\\\0 & 1 & -2 & -0.5\\\\0 & 0 & 0 & 0\\end{matrix}\\right]$"
      ],
      "text/plain": [
       "Matrix([\n",
       "[1, 0,  1,  3.5],\n",
       "[0, 1, -2, -0.5],\n",
       "[0, 0,  0,    0]])"
      ]
     },
     "execution_count": 110,
     "metadata": {},
     "output_type": "execute_result"
    }
   ],
   "source": [
    "A1 = Matrix([\n",
    " [1, 0,  1,  7/2],\n",
    " [0, 1, -2, -1/2],\n",
    " [0, 0,  0,    0]])\n",
    "A1"
   ]
  },
  {
   "cell_type": "code",
   "execution_count": 111,
   "metadata": {},
   "outputs": [
    {
     "data": {
      "text/plain": [
       "array([[ 1. ,  0. ,  1. ,  3.5],\n",
       "       [ 0. ,  1. , -2. , -0.5],\n",
       "       [ 0. ,  0. ,  0. ,  0. ]])"
      ]
     },
     "execution_count": 111,
     "metadata": {},
     "output_type": "execute_result"
    }
   ],
   "source": [
    "import numpy as np\n",
    "A2 = np.array(A1).astype(np.float64)\n",
    "A2"
   ]
  },
  {
   "cell_type": "code",
   "execution_count": 112,
   "metadata": {},
   "outputs": [
    {
     "data": {
      "text/plain": [
       "array([[1., 0., 0., 0.],\n",
       "       [0., 1., 0., 0.],\n",
       "       [0., 0., 0., 0.]])"
      ]
     },
     "execution_count": 112,
     "metadata": {},
     "output_type": "execute_result"
    }
   ],
   "source": [
    "[m, n] = np.shape(A2)\n",
    "for i in range(m):\n",
    "    for j in range(i+1, n):\n",
    "        A2[i][j] = A2[i][j] - A2[i][j]*A2[i][i]\n",
    "A2"
   ]
  },
  {
   "cell_type": "markdown",
   "metadata": {},
   "source": [
    "# Establishing consistency or otherwise and solving system of linear equations."
   ]
  },
  {
   "cell_type": "markdown",
   "metadata": {},
   "source": [
    "If a given system of equations $Ax = B$ is consistent, solving it can be achieved directly by using the commands `np.linalg.inv(A).dot(B)` ($A^{-1}*B$) or `np.linalg.solve(A,B)` which is an in-built command.\n",
    "\n",
    "Challenge is to find the consistency of the system $Ax = B$."
   ]
  },
  {
   "cell_type": "markdown",
   "metadata": {},
   "source": [
    "First we create matrices $A$ and $B$."
   ]
  },
  {
   "cell_type": "code",
   "execution_count": 113,
   "metadata": {},
   "outputs": [],
   "source": [
    "import numpy as np\n",
    "A = np.array([[1, 2, -1],\n",
    "    [3, -1, 2],\n",
    "    [2, -2, 3]])\n",
    "B = np.array([[3], [1], [2]])\n",
    "[m, n] = np.shape(A)"
   ]
  },
  {
   "cell_type": "markdown",
   "metadata": {},
   "source": [
    "Create an augmented matrix $[AB]$ using the command `np.column_stack(( ))`"
   ]
  },
  {
   "cell_type": "code",
   "execution_count": 114,
   "metadata": {},
   "outputs": [],
   "source": [
    "AB = np.column_stack((A, B))"
   ]
  },
  {
   "cell_type": "markdown",
   "metadata": {},
   "source": [
    "Find the rank of matrix $A$"
   ]
  },
  {
   "cell_type": "code",
   "execution_count": 115,
   "metadata": {},
   "outputs": [],
   "source": [
    "Ra = np.linalg.matrix_rank(A)"
   ]
  },
  {
   "cell_type": "markdown",
   "metadata": {},
   "source": [
    "Find the rank of augmented matrix $[AB]$"
   ]
  },
  {
   "cell_type": "code",
   "execution_count": 116,
   "metadata": {},
   "outputs": [],
   "source": [
    "Rab = np.linalg.matrix_rank(AB)"
   ]
  },
  {
   "cell_type": "markdown",
   "metadata": {},
   "source": [
    "Now we write theconditions"
   ]
  },
  {
   "cell_type": "code",
   "execution_count": 117,
   "metadata": {},
   "outputs": [
    {
     "name": "stdout",
     "output_type": "stream",
     "text": [
      "The system is consistent and hence has Unique Solution.\n",
      "\n",
      "The solution is \n",
      "\n",
      "[[-1.]\n",
      " [ 4.]\n",
      " [ 4.]]\n"
     ]
    }
   ],
   "source": [
    "if Ra == Rab & Ra == n:\n",
    "    print(\"The system is consistent and hence has Unique Solution.\\n\")\n",
    "    print(\"The solution is \\n\")\n",
    "    print(np.linalg.solve(A,B))     # We can use `np.linalg.inv(A).dot(B)` either\n",
    "elif Ra == Rab & Ra != n:\n",
    "    print(\"The system is consistent and possess infinitely many solutions.\")\n",
    "else:\n",
    "    print(\"The system is inconsistent.\")\n"
   ]
  },
  {
   "cell_type": "code",
   "execution_count": 118,
   "metadata": {},
   "outputs": [
    {
     "name": "stdout",
     "output_type": "stream",
     "text": [
      "The system is consistent and possess infinitely many solutions.\n"
     ]
    }
   ],
   "source": [
    "# One more example\n",
    "A = np.array([[1, -1, 1],\n",
    "              [3, -1, 2],\n",
    "              [3, 1, 1]])\n",
    "B = np.array([[2], [-6], [-18]])\n",
    "[m, n] = np.shape(A)\n",
    "\n",
    "AB = np.column_stack((A, B))\n",
    "\n",
    "Ra = np.linalg.matrix_rank(A)\n",
    "\n",
    "Rab = np.linalg.matrix_rank(AB)\n",
    "\n",
    "if Ra == Rab & Ra == n:\n",
    "    print(\"The system is consistent and hence has Unique Solution.\\n\")\n",
    "    print(\"The solution is \\n\")\n",
    "    print(np.linalg.solve(A,B))     # We can use `np.linalg.inv(A).dot(B)` either\n",
    "elif Ra == Rab & Ra != n:\n",
    "    print(\"The system is consistent and possess infinitely many solutions.\")\n",
    "else:\n",
    "    print(\"The system is inconsistent.\")"
   ]
  }
 ],
 "metadata": {
  "kernelspec": {
   "display_name": "Python 3",
   "language": "python",
   "name": "python3"
  },
  "language_info": {
   "codemirror_mode": {
    "name": "ipython",
    "version": 3
   },
   "file_extension": ".py",
   "mimetype": "text/x-python",
   "name": "python",
   "nbconvert_exporter": "python",
   "pygments_lexer": "ipython3",
   "version": "3.8.8"
  }
 },
 "nbformat": 4,
 "nbformat_minor": 4
}
