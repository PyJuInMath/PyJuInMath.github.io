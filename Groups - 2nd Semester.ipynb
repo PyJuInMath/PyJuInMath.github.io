{
 "cells": [
  {
   "cell_type": "markdown",
   "metadata": {},
   "source": [
    "#### 1. To show that $[1,-1, i, -i]$ is a group under multiplication"
   ]
  },
  {
   "cell_type": "code",
   "execution_count": 1,
   "metadata": {},
   "outputs": [
    {
     "name": "stdout",
     "output_type": "stream",
     "text": [
      "G is closed under multiplication\n",
      "\n",
      "G is associative under multiplication\n",
      "\n",
      "e1 = (1+0j) is an unique identity element\n",
      "\n",
      "(1+0j) is the inverse of (1+0j)\n",
      "(-1-0j) is the inverse of (-1+0j)\n",
      "-1j is the inverse of 1j\n",
      "(-0+1j) is the inverse of (-0-1j)\n",
      "\n",
      "\n",
      "G is a group under multiplication.\n"
     ]
    }
   ],
   "source": [
    "from numpy import *         # Importing packages\n",
    "G = array([1, -1, 1j, -1j]) # In python, the imaginary part is represented with 'j'.\n",
    "n = len(G)\n",
    "\n",
    "switch = 0                  # Assuming that G does not satisfies the laws.\n",
    "switch1 = 0                 # Contradiction: Assuming that G is not a group.\n",
    "\n",
    "# Closure Law\n",
    "# To prove a*b is in G for all the elements in G\n",
    "for i in arange(n):\n",
    "    for j in arange(n):\n",
    "        prod = G[i]*G[j]    # product a*b in G\n",
    "        if prod in G:       # To check if the product is in G\n",
    "            switch = 1      # If Law is satisfied\n",
    "        else:\n",
    "            switch = 0      # If law not satisfied\n",
    "            break\n",
    "        \n",
    "if switch == 1:\n",
    "    print(\"G is closed under multiplication\\n\");\n",
    "    switch1 = 1             # If closure law satisfied, our assumption might be wrong, so we switch this to 1\n",
    "else:\n",
    "    print(\"G is not closed under multiplication.\\nG is not a Group.\")\n",
    "    switch1 = 0             # If closure law is not satisfied, then G won't be a group.\n",
    "    \n",
    "    \n",
    "# Assocoative Law\n",
    "if switch1 == 0:\n",
    "    quit()\n",
    "else:\n",
    "    for i in arange(n):\n",
    "        for j in arange(n):\n",
    "            for k in arange(n):\n",
    "                if G[i]*(G[i]*G[k]) == (G[i]*G[j])*G[k]:  #To check if a*(b*c) = (a*b)*c\n",
    "                    switch = 1\n",
    "                else:\n",
    "                    switch = 0\n",
    "                    break\n",
    "\n",
    "    if switch == 1:\n",
    "        print(\"G is associative under multiplication\\n\")\n",
    "        switch1 = 1             # If associative law satisfied, our assumption might be wrong, so we switch this to 1\n",
    "    else:\n",
    "        print(\"G is not associative under multiplication.\\nG is not a Group.\")\n",
    "        switch1 = 0             # If associative law is not satisfied, then G won't be a group.\n",
    "    \n",
    "    \n",
    "# Identity Element\n",
    "if switch1 == 0:\n",
    "    quit()\n",
    "else:\n",
    "    for i in arange(n):\n",
    "        if all(G*G[i] == G):    # G multiplied with each element of G. G*a=G => a = e.\n",
    "            e1 = G[i]\n",
    "            print(f'e1 = {G[i]} is an unique identity element\\n')\n",
    "            switch1 = 1\n",
    "            break\n",
    "        else:\n",
    "            print(f\"{G[i]} is not the identity element.\\n\")\n",
    "            switch1 = 0\n",
    "\n",
    "        \n",
    "# Inverse element\n",
    "if switch1 == 0:\n",
    "    quit()\n",
    "else:\n",
    "    inv = zeros(n, dtype=complex) # A dummy array of zeros to store the inverse values.\n",
    "    for i in arange(n):\n",
    "        inv[i] = e1/G[i]        # For each elements of G, find the e/that element. i.e., inv = identity/G (or inv = e/a)\n",
    "        if inv[i] in G:\n",
    "            print(f'{inv[i]} is the inverse of {G[i]}');\n",
    "            switch1 = 1\n",
    "        else:\n",
    "            print(f\"No inverse element exists \\n\");\n",
    "            switch1 = 0\n",
    "            break\n",
    "\n",
    "    print(\"\\n\")\n",
    "    if switch1 == 1:\n",
    "        print(\"G is a group under multiplication.\")\n",
    "    else:\n",
    "        print(\"G is not a group\");"
   ]
  },
  {
   "cell_type": "markdown",
   "metadata": {},
   "source": [
    "#### 2. To construct a Cayley Table for ($Z_4, +_4$)."
   ]
  },
  {
   "cell_type": "code",
   "execution_count": 2,
   "metadata": {},
   "outputs": [
    {
     "name": "stdout",
     "output_type": "stream",
     "text": [
      "Enter the number of elements in Z : 4\n",
      "[[0. 1. 2. 3.]\n",
      " [1. 2. 3. 0.]\n",
      " [2. 3. 0. 1.]\n",
      " [3. 0. 1. 2.]]\n"
     ]
    }
   ],
   "source": [
    "# Cayley Table\n",
    "from numpy import *\n",
    "n = int(input(\"Enter the number of elements in Z : \")); # Input number of elements.\n",
    "Z = arange(n)        # Creates Z with the help of n\n",
    "Z1 = zeros((n, n))   # Create a dummy matrix of nxn to store the values after operations. Table of all zeros.\n",
    "\n",
    "for i in arange(n):\n",
    "    for j in arange(n):\n",
    "        Z1[i, j] = mod(Z[i] + Z[j], n)  #Mod(a*b, 4).Stores the values of each operation in Z1 for each i and j respectively.\n",
    "    \n",
    "print(Z1)     #To print the matrix after the oprations. This will be the Cayley Table."
   ]
  },
  {
   "cell_type": "markdown",
   "metadata": {},
   "source": [
    "#### 3. To construct a Cayley Table for ($Z_4, \\text{x}_4$)."
   ]
  },
  {
   "cell_type": "code",
   "execution_count": 1,
   "metadata": {},
   "outputs": [
    {
     "name": "stdout",
     "output_type": "stream",
     "text": [
      "Enter the number of elements in Z : 4\n",
      "[[0. 0. 0. 0.]\n",
      " [0. 1. 2. 3.]\n",
      " [0. 2. 0. 2.]\n",
      " [0. 3. 2. 1.]]\n"
     ]
    }
   ],
   "source": [
    "# Cayley Table\n",
    "from numpy import *\n",
    "n = int(input(\"Enter the number of elements in Z : \")); # Input number of elements.\n",
    "Z = arange(n)        # Creates Z with the help of n\n",
    "Z1 = zeros((n, n))   # Create a dummy matrix of nxn to store the values after operations. Table of all zeros.\n",
    "\n",
    "for i in arange(n):\n",
    "    for j in arange(n):\n",
    "        Z1[i, j] = mod(Z[i] * Z[j], n)  #Mod(a*b, 4).Stores the values of each operation in Z1 for each i and j respectively.\n",
    "        \n",
    "print(Z1)     #To print the matrix after the oprations. This will be the Cayley Table."
   ]
  },
  {
   "cell_type": "markdown",
   "metadata": {},
   "source": [
    "#### 4. To create Cayley table for ($G, \\text{x}_{10}$) where $G=\\{2,4,6,8\\}$ "
   ]
  },
  {
   "cell_type": "code",
   "execution_count": 2,
   "metadata": {},
   "outputs": [
    {
     "name": "stdout",
     "output_type": "stream",
     "text": [
      "Enter the value of n: 10\n",
      "\n",
      "The given set is [2 4 6 8]\n",
      "\n",
      "The Cayley Table for given set G = [2 4 6 8] under multiplication mod 10 is : \n",
      " [[4. 8. 2. 6.]\n",
      " [8. 6. 4. 2.]\n",
      " [2. 4. 6. 8.]\n",
      " [6. 2. 8. 4.]]\n"
     ]
    }
   ],
   "source": [
    "from numpy import *\n",
    "n = int(input(\"Enter the value of n: \"))     # The mod value for the operator\n",
    "G = arange(2, n, 2)                          # To start the values of set G from 2 with incerment of 2. \n",
    "print(f'\\nThe given set is {G}\\n')\n",
    "m = len(G)                                   # To find the total number of elements in G\n",
    "G1 = zeros((m, m))                           # Dummy zero matrix to store the values after the operation.\n",
    "\n",
    "for i in range(m):\n",
    "    for j in range(m):\n",
    "        G1[i, j] = mod(G[i] * G[j], n)       # Operation, mod(a*b, n) and to store the respective values.\n",
    "        \n",
    "print(f'The Cayley Table for given set G = {G} under multiplication mod {n} is : \\n {G1}')"
   ]
  }
 ],
 "metadata": {
  "kernelspec": {
   "display_name": "Python 3",
   "language": "python",
   "name": "python3"
  },
  "language_info": {
   "codemirror_mode": {
    "name": "ipython",
    "version": 3
   },
   "file_extension": ".py",
   "mimetype": "text/x-python",
   "name": "python",
   "nbconvert_exporter": "python",
   "pygments_lexer": "ipython3",
   "version": "3.8.8"
  }
 },
 "nbformat": 4,
 "nbformat_minor": 4
}
